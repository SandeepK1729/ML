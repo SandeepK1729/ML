{
 "cells": [
  {
   "cell_type": "code",
   "execution_count": 8,
   "metadata": {
    "collapsed": true
   },
   "outputs": [],
   "source": [
    "import pandas as pd\n",
    "import numpy as np\n",
    "import math\n",
    "import operator\n",
    "from sklearn.neighbors import KNeighborsClassifier\n",
    "from sklearn import datasets\n",
    "from sklearn.model_selection import train_test_split\n",
    "from sklearn import metrics\n",
    "from sklearn.model_selection import cross_val_score\n",
    "from sklearn.metrics import accuracy_score\n",
    "from sklearn.metrics import classification_report\n",
    "import seaborn as sns\n",
    "from sklearn.svm import SVC\n",
    "from sklearn.metrics import confusion_matrix\n",
    "import sklearn.datasets"
   ]
  },
  {
   "cell_type": "code",
   "execution_count": 9,
   "metadata": {
    "collapsed": true
   },
   "outputs": [],
   "source": [
    "iris=datasets.load_iris()"
   ]
  },
  {
   "cell_type": "code",
   "execution_count": 11,
   "metadata": {},
   "outputs": [
    {
     "name": "stdout",
     "output_type": "stream",
     "text": [
      "Accuracy: 0.868421052632\n"
     ]
    }
   ],
   "source": [
    "X_train, X_test, y_train, y_test = train_test_split(iris.data, iris.target, test_size=0.25)\n",
    "knn = KNeighborsClassifier(n_neighbors=4)\n",
    "knn.fit(X_train, y_train)\n",
    "y_pred = knn.predict(X_test)\n",
    "accuracy=metrics.accuracy_score(y_test, y_pred)    \n",
    "print(\"Accuracy:\",metrics.accuracy_score(y_test, y_pred))"
   ]
  },
  {
   "cell_type": "code",
   "execution_count": 6,
   "metadata": {
    "scrolled": true
   },
   "outputs": [
    {
     "name": "stdout",
     "output_type": "stream",
     "text": [
      "[3, 5, 7, 9, 11, 13, 15, 17, 19, 21, 23, 25, 27, 29, 31, 33, 35, 37, 39, 41, 43, 45, 47, 49]\n",
      "The accuracy for optimal k = 13 using brute is 92.10526315789474\n",
      "classification_report using brute force\n",
      "             precision    recall  f1-score   support\n",
      "\n",
      "          0       1.00      1.00      1.00        11\n",
      "          1       0.94      0.88      0.91        17\n",
      "          2       0.82      0.90      0.86        10\n",
      "\n",
      "avg / total       0.92      0.92      0.92        38\n",
      "\n"
     ]
    }
   ],
   "source": [
    "import pandas as pd\n",
    "import numpy as np\n",
    "import math\n",
    "import operator\n",
    "from sklearn.neighbors import KNeighborsClassifier\n",
    "from sklearn import datasets\n",
    "from sklearn.model_selection import train_test_split\n",
    "from sklearn import metrics\n",
    "from sklearn.model_selection import cross_val_score\n",
    "from sklearn.metrics import accuracy_score\n",
    "from sklearn.metrics import classification_report\n",
    "import seaborn as sns\n",
    "from sklearn.svm import SVC\n",
    "from sklearn.metrics import confusion_matrix\n",
    "cv_scores = []\n",
    "neighbors = list(np.arange(3,50,2))\n",
    "print(neighbors)\n",
    "for n in neighbors:\n",
    "    knn = KNeighborsClassifier(n_neighbors = n,algorithm = 'brute')\n",
    "    \n",
    "    cross_val = cross_val_score(knn,X_train,y_train,cv = 10 , scoring = 'accuracy')\n",
    "    cv_scores.append(cross_val.mean())\n",
    "    \n",
    "error = [1-x for x in cv_scores]\n",
    "optimal_n = neighbors[ error.index(min(error)) ]\n",
    "knn_optimal = KNeighborsClassifier(n_neighbors = optimal_n,algorithm = 'brute')\n",
    "knn_optimal.fit(X_train,y_train)\n",
    "pred = knn_optimal.predict(X_test)\n",
    "acc = accuracy_score(y_test,pred)*100\n",
    "print(\"The accuracy for optimal k = {0} using brute is {1}\".format(optimal_n,acc))\n",
    "print(\"classification_report using brute force\")\n",
    "print(classification_report(y_test,pred))"
   ]
  },
  {
   "cell_type": "code",
   "execution_count": 7,
   "metadata": {
    "collapsed": true
   },
   "outputs": [],
   "source": [
    "from sklearn.svm import SVC"
   ]
  },
  {
   "cell_type": "code",
   "execution_count": 8,
   "metadata": {},
   "outputs": [
    {
     "name": "stdout",
     "output_type": "stream",
     "text": [
      "97.3684210526\n"
     ]
    },
    {
     "data": {
      "image/png": "[encoded data removed]",
      "text/plain": [
       "<matplotlib.figure.Figure at 0x2022b3bf400>"
      ]
     },
     "metadata": {},
     "output_type": "display_data"
    }
   ],
   "source": [
    "s1=SVC(kernel = 'linear').fit(X_train, y_train)\n",
    "s1_pred=s1.predict(X_test)\n",
    "acc = accuracy_score(y_test,s1_pred)*100\n",
    "print(acc)\n",
    "cm = confusion_matrix(y_test, s1_pred)\n",
    "cm_df = pd.DataFrame(cm,\n",
    "                     index = ['setosa','versicolor','virginica'], \n",
    "                     columns = ['setosa','versicolor','virginica'])\n",
    "\n",
    "sns.heatmap(cm_df, annot=True)\n",
    "plt.title('Accuracy using SVM:{0:.3f}'.format(accuracy_score(y_test, s1_pred)))\n",
    "plt.ylabel('Actual label')\n",
    "plt.xlabel('Predicted label')\n",
    "plt.show()"
   ]
  },
  {
   "cell_type": "code",
   "execution_count": 9,
   "metadata": {},
   "outputs": [
    {
     "name": "stdout",
     "output_type": "stream",
     "text": [
      "[[11  0  0]\n",
      " [ 0 15  2]\n",
      " [ 0  1  9]]\n"
     ]
    },
    {
     "data": {
      "image/png": "[encoded data removed]",
      "text/plain": [
       "<matplotlib.figure.Figure at 0x2022b128e48>"
      ]
     },
     "metadata": {},
     "output_type": "display_data"
    }
   ],
   "source": [
    "\n",
    "# Creates a confusion matrix\n",
    "cm = confusion_matrix(y_test, pred)\n",
    "print(cm)\n",
    "# Transform to df for easier plotting\n",
    "cm_df = pd.DataFrame(cm,\n",
    "                     index = ['setosa','versicolor','virginica'], \n",
    "                     columns = ['setosa','versicolor','virginica'])\n",
    "\n",
    "sns.heatmap(cm_df, annot=True)\n",
    "plt.title('Accuracy using brute:{0:.3f}'.format(accuracy_score(y_test, y_pred)))\n",
    "plt.ylabel('Actual label')\n",
    "plt.xlabel('Predicted label')\n",
    "plt.show()"
   ]
  },
  {
   "cell_type": "code",
   "execution_count": 59,
   "metadata": {},
   "outputs": [
    {
     "name": "stdout",
     "output_type": "stream",
     "text": [
      "correct prediction\n",
      "correct prediction\n",
      "correct prediction\n",
      "correct prediction\n",
      "correct prediction\n",
      "correct prediction\n",
      "correct prediction\n",
      "correct prediction\n",
      "correct prediction\n",
      "correct prediction\n",
      "correct prediction\n",
      "correct prediction\n",
      "correct prediction\n",
      "correct prediction\n",
      "correct prediction\n",
      "correct prediction\n",
      "correct prediction\n",
      "correct prediction\n",
      "correct prediction\n",
      "wrong prediction 1 2\n",
      "correct prediction\n",
      "correct prediction\n",
      "correct prediction\n",
      "correct prediction\n",
      "correct prediction\n",
      "correct prediction\n",
      "correct prediction\n",
      "correct prediction\n",
      "correct prediction\n",
      "correct prediction\n",
      "correct prediction\n",
      "correct prediction\n",
      "correct prediction\n",
      "correct prediction\n",
      "correct prediction\n",
      "correct prediction\n",
      "correct prediction\n",
      "correct prediction\n",
      "[0 1 0 1 1 2 0 0 0 1 0 2 2 2 0 2 0 2 0 1 2 1 1 0 0 0 2 0 1 0 0 0 1 2 2 0 0\n",
      " 1]\n",
      "[0 1 0 1 1 2 0 0 0 1 0 2 2 2 0 2 0 2 0 2 2 1 1 0 0 0 2 0 1 0 0 0 1 2 2 0 0\n",
      " 1]\n"
     ]
    }
   ],
   "source": [
    "for i in range(len(y_test)):\n",
    "    if y_test[i]==y_pred[i]:\n",
    "        print(\"correct prediction\")\n",
    "    else:\n",
    "        print(\"wrong prediction\", y_test[i],y_pred[i])\n",
    "print(y_test)\n",
    "print(y_pred)"
   ]
  },
  {
   "cell_type": "code",
   "execution_count": 39,
   "metadata": {},
   "outputs": [
    {
     "name": "stdout",
     "output_type": "stream",
     "text": [
      "['sepal length (cm)', 'sepal width (cm)', 'petal length (cm)', 'petal width (cm)']\n"
     ]
    }
   ],
   "source": [
    "print(iris.feature_names)"
   ]
  }
 ],
 "metadata": {
  "kernelspec": {
   "display_name": "Python 3",
   "language": "python",
   "name": "python3"
  },
  "language_info": {
   "codemirror_mode": {
    "name": "ipython",
    "version": 3
   },
   "file_extension": ".py",
   "mimetype": "text/x-python",
   "name": "python",
   "nbconvert_exporter": "python",
   "pygments_lexer": "ipython3",
   "version": "3.6.2"
  }
 },
 "nbformat": 4,
 "nbformat_minor": 2
}
